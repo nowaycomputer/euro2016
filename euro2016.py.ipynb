{
 "cells": [
  {
   "cell_type": "code",
   "execution_count": 57,
   "metadata": {
    "collapsed": false
   },
   "outputs": [
    {
     "name": "stdout",
     "output_type": "stream",
     "text": [
      "Populating the interactive namespace from numpy and matplotlib\n"
     ]
    },
    {
     "name": "stderr",
     "output_type": "stream",
     "text": [
      "WARNING: pylab import has clobbered these variables: ['f']\n",
      "`%matplotlib` prevents importing * from pylab and numpy\n"
     ]
    }
   ],
   "source": [
    "import csv\n",
    "%pylab inline\n",
    "\n",
    "# function that calculates the expected results of a match\n",
    "def adjusted_result(elo_a,elo_b,gf_a,gf_b,ga_a,ga_b,odds_a,odds_b):\n",
    "    # Equation to work to probability of team A winning:\n",
    "    # Pr(A) = 1 / (10^(-ELODIFF/400) + 1)\n",
    "    # return probability of a teamA winning\n",
    "    # from this, the probability of teamB winning is correspondingly 1-P(A)\n",
    "    if (elo_a>elo_b):\n",
    "        p_A = 1 / (1+math.pow(10, (elo_a-elo_b)))\n",
    "    else:\n",
    "        p_A = 1 / (1+math.pow(10, (elo_a-elo_b)))\n",
    "    return p_A\n",
    "\n",
    "def result_elo(elo_a,elo_b):\n",
    "    # Equation to work to probability of team A winning:\n",
    "    # Pr(A) = 1 / (10^(-ELODIFF/400) + 1)\n",
    "    # return probability of a teamA winning\n",
    "    # from this, the probability of teamB winning is correspondingly 1-P(A)\n",
    "    if (elo_a>elo_b):\n",
    "        print('team a > team b')\n",
    "        p_A = 1/(math.pow(10,-1*(elo_a-elo_b)/400)+1)\n",
    "    else:\n",
    "        print('team b > team a')\n",
    "        p_A = 1-1/(math.pow(10,-1*(elo_b-elo_a)/400)+1)\n",
    "    return p_A\n",
    "\n",
    "class Group:\n",
    "    # teams organised by group and initial position - e.g a1,a2,a3,a4...\n",
    "    points=[0,0,0,0]\n",
    "    goals_for=[0,0,0,0]\n",
    "    goals_against=[0,0,0,0]\n",
    "    def __init__(self, name, teams, elos,goals_for,goals_against,odds):\n",
    "        self.name = name    # instance variable unique to each instance\n",
    "        self.teams = teams\n",
    "        self.elos = elos\n",
    "        self.goals_for_ave = goals_for_ave\n",
    "        self.goals_against_ave = goals_against_ave\n",
    "        self.odds = odds\n",
    "\n",
    "teams=[]\n",
    "elos=[]\n",
    "one_yr_elo_changes=[]\n",
    "groups=['a','b','c','d','e','f']\n",
    "group_a=[]\n",
    "group_b=[]\n",
    " \n",
    "## read data    \n",
    "with open('data.csv', 'rb') as f:\n",
    "    reader = csv.reader(f)\n",
    "    for row in reader:\n",
    "        teams=row[2]\n",
    "        elos=row[3]\n",
    "        \n",
    "# for each group calculate all match results\n",
    "group_a=\n",
    "    "
   ]
  },
  {
   "cell_type": "code",
   "execution_count": 60,
   "metadata": {
    "collapsed": false
   },
   "outputs": [
    {
     "name": "stdout",
     "output_type": "stream",
     "text": [
      "team b > team a\n"
     ]
    },
    {
     "data": {
      "text/plain": [
       "0.5"
      ]
     },
     "execution_count": 60,
     "metadata": {},
     "output_type": "execute_result"
    }
   ],
   "source": [
    "result_elo(2000.,2000.)"
   ]
  },
  {
   "cell_type": "code",
   "execution_count": 62,
   "metadata": {
    "collapsed": false
   },
   "outputs": [
    {
     "data": {
      "text/plain": [
       "[<matplotlib.lines.Line2D at 0x7fd4e3249f90>]"
      ]
     },
     "execution_count": 62,
     "metadata": {},
     "output_type": "execute_result"
    },
    {
     "data": {
      "image/png": "[encoded data removed]",
      "text/plain": [
       "<matplotlib.figure.Figure at 0x7fd4e32dadd0>"
      ]
     },
     "metadata": {},
     "output_type": "display_data"
    }
   ],
   "source": [
    "plt.plot(elos)"
   ]
  },
  {
   "cell_type": "code",
   "execution_count": null,
   "metadata": {
    "collapsed": true
   },
   "outputs": [],
   "source": []
  }
 ],
 "metadata": {
  "kernelspec": {
   "display_name": "Python 2",
   "language": "python",
   "name": "python2"
  },
  "language_info": {
   "codemirror_mode": {
    "name": "ipython",
    "version": 2
   },
   "file_extension": ".py",
   "mimetype": "text/x-python",
   "name": "python",
   "nbconvert_exporter": "python",
   "pygments_lexer": "ipython2",
   "version": "2.7.9"
  }
 },
 "nbformat": 4,
 "nbformat_minor": 0
}
